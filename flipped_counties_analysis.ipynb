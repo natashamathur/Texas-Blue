{
 "cells": [
  {
   "cell_type": "code",
   "execution_count": 23,
   "metadata": {},
   "outputs": [],
   "source": [
    "import pandas as pd\n",
    "import statistics"
   ]
  },
  {
   "cell_type": "code",
   "execution_count": 9,
   "metadata": {},
   "outputs": [],
   "source": [
    "x = pd.read_csv('final_data_for_model.csv')"
   ]
  },
  {
   "cell_type": "markdown",
   "metadata": {},
   "source": [
    "### Find counties where there was a pro-gun-control and anti-gun-control candidate"
   ]
  },
  {
   "cell_type": "code",
   "execution_count": 10,
   "metadata": {},
   "outputs": [],
   "source": [
    "flips = x.head(1)\n",
    "\n",
    "for c in x.county.unique():\n",
    "    t = x[x.county == c]\n",
    "    if 0.0 in t.pro_gun_control.unique() and 1.0 in t.pro_gun_control.unique():\n",
    "        flips = flips.append(t)"
   ]
  },
  {
   "cell_type": "code",
   "execution_count": 11,
   "metadata": {},
   "outputs": [],
   "source": [
    "flips = flips.iloc[1:]\n",
    "flip_counties = flips.county.unique()"
   ]
  },
  {
   "cell_type": "code",
   "execution_count": 12,
   "metadata": {},
   "outputs": [
    {
     "data": {
      "text/html": [
       "<div>\n",
       "<style scoped>\n",
       "    .dataframe tbody tr th:only-of-type {\n",
       "        vertical-align: middle;\n",
       "    }\n",
       "\n",
       "    .dataframe tbody tr th {\n",
       "        vertical-align: top;\n",
       "    }\n",
       "\n",
       "    .dataframe thead th {\n",
       "        text-align: right;\n",
       "    }\n",
       "</style>\n",
       "<table border=\"1\" class=\"dataframe\">\n",
       "  <thead>\n",
       "    <tr style=\"text-align: right;\">\n",
       "      <th></th>\n",
       "      <th>Unnamed: 0</th>\n",
       "      <th>year</th>\n",
       "      <th>county</th>\n",
       "      <th>office</th>\n",
       "      <th>district</th>\n",
       "      <th>candidate</th>\n",
       "      <th>vote_share</th>\n",
       "      <th>pro_gun_control</th>\n",
       "      <th>candidate_male</th>\n",
       "      <th>candidate_hispanic</th>\n",
       "    </tr>\n",
       "  </thead>\n",
       "  <tbody>\n",
       "    <tr>\n",
       "      <th>256</th>\n",
       "      <td>2</td>\n",
       "      <td>2016</td>\n",
       "      <td>ATASCOSA</td>\n",
       "      <td>house</td>\n",
       "      <td>28</td>\n",
       "      <td>Henry Cuellar</td>\n",
       "      <td>0.470437</td>\n",
       "      <td>0.0</td>\n",
       "      <td>1.0</td>\n",
       "      <td>1</td>\n",
       "    </tr>\n",
       "    <tr>\n",
       "      <th>6</th>\n",
       "      <td>6</td>\n",
       "      <td>2014</td>\n",
       "      <td>ATASCOSA</td>\n",
       "      <td>senate</td>\n",
       "      <td>28</td>\n",
       "      <td>David M. Alameel</td>\n",
       "      <td>0.303157</td>\n",
       "      <td>1.0</td>\n",
       "      <td>1.0</td>\n",
       "      <td>0</td>\n",
       "    </tr>\n",
       "    <tr>\n",
       "      <th>431</th>\n",
       "      <td>177</td>\n",
       "      <td>2016</td>\n",
       "      <td>ATASCOSA</td>\n",
       "      <td>president</td>\n",
       "      <td>NaN</td>\n",
       "      <td>Hillary Clinton</td>\n",
       "      <td>0.350000</td>\n",
       "      <td>1.0</td>\n",
       "      <td>0.0</td>\n",
       "      <td>0</td>\n",
       "    </tr>\n",
       "    <tr>\n",
       "      <th>262</th>\n",
       "      <td>8</td>\n",
       "      <td>2016</td>\n",
       "      <td>BEE</td>\n",
       "      <td>house</td>\n",
       "      <td>34</td>\n",
       "      <td>Filemon B. Vela</td>\n",
       "      <td>0.434325</td>\n",
       "      <td>0.0</td>\n",
       "      <td>1.0</td>\n",
       "      <td>1</td>\n",
       "    </tr>\n",
       "    <tr>\n",
       "      <th>868</th>\n",
       "      <td>189</td>\n",
       "      <td>2014</td>\n",
       "      <td>BEE</td>\n",
       "      <td>house</td>\n",
       "      <td>34</td>\n",
       "      <td>Filemon B Vela</td>\n",
       "      <td>0.470063</td>\n",
       "      <td>0.0</td>\n",
       "      <td>1.0</td>\n",
       "      <td>1</td>\n",
       "    </tr>\n",
       "  </tbody>\n",
       "</table>\n",
       "</div>"
      ],
      "text/plain": [
       "     Unnamed: 0  year    county     office district         candidate  \\\n",
       "256           2  2016  ATASCOSA      house       28     Henry Cuellar   \n",
       "6             6  2014  ATASCOSA     senate       28  David M. Alameel   \n",
       "431         177  2016  ATASCOSA  president      NaN   Hillary Clinton   \n",
       "262           8  2016       BEE      house       34   Filemon B. Vela   \n",
       "868         189  2014       BEE      house       34    Filemon B Vela   \n",
       "\n",
       "     vote_share  pro_gun_control  candidate_male  candidate_hispanic  \n",
       "256    0.470437              0.0             1.0                   1  \n",
       "6      0.303157              1.0             1.0                   0  \n",
       "431    0.350000              1.0             0.0                   0  \n",
       "262    0.434325              0.0             1.0                   1  \n",
       "868    0.470063              0.0             1.0                   1  "
      ]
     },
     "execution_count": 12,
     "metadata": {},
     "output_type": "execute_result"
    }
   ],
   "source": [
    "flips.sort_values(by=['county', 'pro_gun_control']).head()"
   ]
  },
  {
   "cell_type": "code",
   "execution_count": 13,
   "metadata": {},
   "outputs": [],
   "source": [
    "flipped = flips.groupby(['county', 'pro_gun_control']).mean()['vote_share'].reset_index()"
   ]
  },
  {
   "cell_type": "markdown",
   "metadata": {},
   "source": [
    "### Find out whether supporting gun control led to an increase or decrease in the candidates vote share compared to the candidate who did not support gun control. "
   ]
  },
  {
   "cell_type": "code",
   "execution_count": 15,
   "metadata": {},
   "outputs": [],
   "source": [
    "gun_control_neg = {}\n",
    "gun_control_pos = {}\n",
    "\n",
    "for c in flipped.county.unique():\n",
    "    t = flipped[flipped.county == c]\n",
    "    \n",
    "    t1 = t[t.pro_gun_control == 1.0]\n",
    "    t0 = t[t.pro_gun_control == 0.0]\n",
    "    \n",
    "    margin = t1.iloc[0].vote_share - t0.iloc[0].vote_share\n",
    "    \n",
    "    if margin < 0:\n",
    "        gun_control_neg[c] = margin\n",
    "    else:\n",
    "        gun_control_pos[c] = margin\n",
    "        "
   ]
  },
  {
   "cell_type": "code",
   "execution_count": 49,
   "metadata": {},
   "outputs": [
    {
     "name": "stdout",
     "output_type": "stream",
     "text": [
      "n 4 mean 0.0853 standard deviation 0.0982\n"
     ]
    }
   ],
   "source": [
    "pos = list(gun_control_pos.values())\n",
    "print(\"n\", len(pos), \"mean\", round(statistics.mean(pos), 4), \"standard deviation\", round(statistics.stdev(pos), 4))"
   ]
  },
  {
   "cell_type": "code",
   "execution_count": 50,
   "metadata": {},
   "outputs": [
    {
     "name": "stdout",
     "output_type": "stream",
     "text": [
      "n 55 mean -0.094 standard deviation 0.0737\n"
     ]
    }
   ],
   "source": [
    "neg = list(gun_control_neg.values())\n",
    "print(\"n\", len(neg), \"mean\", round(statistics.mean(neg), 4), \"standard deviation\", round(statistics.stdev(neg), 4))"
   ]
  },
  {
   "cell_type": "markdown",
   "metadata": {},
   "source": [
    "### The average impact of supporting or not supporting gun control is very similar. However the sample size for negative (55) is much larger than for positive (4). "
   ]
  }
 ],
 "metadata": {
  "kernelspec": {
   "display_name": "Python 3",
   "language": "python",
   "name": "python3"
  },
  "language_info": {
   "codemirror_mode": {
    "name": "ipython",
    "version": 3
   },
   "file_extension": ".py",
   "mimetype": "text/x-python",
   "name": "python",
   "nbconvert_exporter": "python",
   "pygments_lexer": "ipython3",
   "version": "3.6.4"
  }
 },
 "nbformat": 4,
 "nbformat_minor": 2
}
