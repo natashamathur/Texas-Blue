{
 "cells": [
  {
   "cell_type": "markdown",
   "metadata": {},
   "source": [
    "## Imports and Functions"
   ]
  },
  {
   "cell_type": "markdown",
   "metadata": {},
   "source": [
    "#### The code in the file ML.py is modified from material for Rayid Ghani's Spring 2018 ML for Public Policy course."
   ]
  },
  {
   "cell_type": "code",
   "execution_count": 1,
   "metadata": {},
   "outputs": [],
   "source": [
    "from data_functions import *\n",
    "from ML_continuous import *\n",
    "\n",
    "import warnings\n",
    "warnings.filterwarnings('ignore')"
   ]
  },
  {
   "cell_type": "code",
   "execution_count": 2,
   "metadata": {},
   "outputs": [],
   "source": [
    "def temporal_train_test_data_split(df, features, filter_var, outcome_var):\n",
    "    start_date = 1992\n",
    "    training_end_date = 2014\n",
    "    testing_end_date = 2018\n",
    "\n",
    "    y_df = df[[filter_var, outcome_var]]\n",
    "\n",
    "    x_train_filter_by_date = filter_df_by_date_range(df, filter_var, training_end_date, testing_end_date)\n",
    "    x_test_filter_by_date = filter_df_by_date_range(df, filter_var, start_date, training_end_date)\n",
    "\n",
    "    y_train_filter_by_date = filter_df_by_date_range(y_df, filter_var, training_end_date, testing_end_date)\n",
    "    y_test_filter_by_date = filter_df_by_date_range(y_df, filter_var, start_date, training_end_date)\n",
    "\n",
    "    x_train = x_train_filter_by_date[features]\n",
    "    x_test = x_test_filter_by_date[features]\n",
    "\n",
    "    y_train = y_train_filter_by_date[outcome_var]\n",
    "    y_test = y_test_filter_by_date[outcome_var]\n",
    "\n",
    "    return x_test, x_train, y_test, y_train"
   ]
  },
  {
   "cell_type": "markdown",
   "metadata": {},
   "source": [
    "### Open and reformat data"
   ]
  },
  {
   "cell_type": "code",
   "execution_count": 8,
   "metadata": {},
   "outputs": [
    {
     "data": {
      "text/plain": [
       "Index(['election_year', 'candidate_name', 'vote_share', 'president',\n",
       "       'governor', 'senate', 'pres_elec_year', 'current_presidents_dem',\n",
       "       'unemployment', 'turnout', 'candidate_white', 'candidate_hispanic',\n",
       "       'candidate_male'],\n",
       "      dtype='object')"
      ]
     },
     "execution_count": 8,
     "metadata": {},
     "output_type": "execute_result"
    }
   ],
   "source": [
    "data = read('texas_info.xlsx')\n",
    "data.columns"
   ]
  },
  {
   "cell_type": "markdown",
   "metadata": {},
   "source": [
    "#### Add columns that could be useful."
   ]
  },
  {
   "cell_type": "code",
   "execution_count": 10,
   "metadata": {},
   "outputs": [],
   "source": [
    "df = pd.concat([data, pd.get_dummies(data['election_year'])], axis=1)"
   ]
  },
  {
   "cell_type": "code",
   "execution_count": 36,
   "metadata": {},
   "outputs": [],
   "source": [
    "df.columns = [ 'election_year','candidate_name','vote_share', 'president','governor','senate','pres_elec_year', \n",
    "              'current_presidents_dem','unemployment',  'turnout','candidate_white',     'candidate_hispanic',\n",
    "               'candidate_male','1992','1994',                     '1996',\n",
    "                           '1998',                     '2000',\n",
    "                           '2002',                     '2004',\n",
    "                           '2006',                     '2008',\n",
    "                           '2010',                     '2012',\n",
    "                           '2014',                     '2016',\n",
    "                           '2018']"
   ]
  },
  {
   "cell_type": "code",
   "execution_count": 53,
   "metadata": {},
   "outputs": [],
   "source": [
    "all_feats = ['president', \n",
    "                     'governor',                 'senate',\n",
    "               'pres_elec_year', 'current_presidents_dem',\n",
    "                 'unemployment',                'turnout',\n",
    "              'candidate_white',     'candidate_hispanic',\n",
    "               'candidate_male']"
   ]
  },
  {
   "cell_type": "code",
   "execution_count": 65,
   "metadata": {},
   "outputs": [],
   "source": [
    "import random\n",
    "group_of_items = set(all_feats)\n",
    "num_to_select = 4\n",
    "feats = random.sample(group_of_items, num_to_select)"
   ]
  },
  {
   "cell_type": "markdown",
   "metadata": {},
   "source": [
    "### Models"
   ]
  },
  {
   "cell_type": "code",
   "execution_count": 66,
   "metadata": {},
   "outputs": [],
   "source": [
    "import statsmodels.api as sm\n",
    "import statsmodels.formula.api as smf"
   ]
  },
  {
   "cell_type": "code",
   "execution_count": 76,
   "metadata": {},
   "outputs": [],
   "source": [
    "build_model = 'vote_share ~ '\n",
    "for f in feats:\n",
    "    build_model = build_model + 'Q(\"' + str(f) + '\")' + ' + '"
   ]
  },
  {
   "cell_type": "code",
   "execution_count": 82,
   "metadata": {},
   "outputs": [],
   "source": [
    "build_model = build_model + \"C(election_year)\""
   ]
  },
  {
   "cell_type": "code",
   "execution_count": 88,
   "metadata": {},
   "outputs": [
    {
     "name": "stdout",
     "output_type": "stream",
     "text": [
      "                            OLS Regression Results                            \n",
      "==============================================================================\n",
      "Dep. Variable:             vote_share   R-squared:                       0.834\n",
      "Model:                            OLS   Adj. R-squared:                  0.255\n",
      "Method:                 Least Squares   F-statistic:                     1.439\n",
      "Date:                Tue, 13 Nov 2018   Prob (F-statistic):              0.392\n",
      "Time:                        13:44:40   Log-Likelihood:                 48.076\n",
      "No. Observations:                  19   AIC:                            -66.15\n",
      "Df Residuals:                       4   BIC:                            -51.99\n",
      "Df Model:                          14                                         \n",
      "Covariance Type:            nonrobust                                         \n",
      "===============================================================================================\n",
      "                                  coef    std err          t      P>|t|      [0.025      0.975]\n",
      "-----------------------------------------------------------------------------------------------\n",
      "Intercept                       0.1753      0.027      6.542      0.003       0.101       0.250\n",
      "C(election_year)[T.1994]        0.0146      0.028      0.515      0.634      -0.064       0.093\n",
      "C(election_year)[T.1996]        0.0353      0.039      0.900      0.419      -0.074       0.144\n",
      "C(election_year)[T.1998]       -0.0559      0.039     -1.442      0.223      -0.164       0.052\n",
      "C(election_year)[T.2000]        0.0015      0.028      0.053      0.960      -0.078       0.081\n",
      "C(election_year)[T.2002]        0.0657      0.044      1.486      0.212      -0.057       0.188\n",
      "C(election_year)[T.2004]        0.0486      0.051      0.953      0.394      -0.093       0.190\n",
      "C(election_year)[T.2006]        0.0293      0.030      0.969      0.387      -0.055       0.113\n",
      "C(election_year)[T.2008]        0.1267      0.045      2.809      0.048       0.001       0.252\n",
      "C(election_year)[T.2010]       -0.0130      0.036     -0.365      0.733      -0.112       0.086\n",
      "C(election_year)[T.2012]        0.0092      0.034      0.270      0.801      -0.086       0.105\n",
      "C(election_year)[T.2014]        0.0181      0.038      0.470      0.663      -0.089       0.125\n",
      "C(election_year)[T.2016]        0.0581      0.038      1.538      0.199      -0.047       0.163\n",
      "C(election_year)[T.2018]        0.1513      0.026      5.904      0.004       0.080       0.222\n",
      "Q(\"president\")                  0.0317      0.042      0.755      0.492      -0.085       0.148\n",
      "Q(\"turnout\")                    0.0792      0.011      7.307      0.002       0.049       0.109\n",
      "Q(\"pres_elec_year\")            -0.0347      0.035     -0.985      0.380      -0.133       0.063\n",
      "Q(\"unemployment\")               0.0212      0.008      2.719      0.053      -0.000       0.043\n",
      "Q(\"current_presidents_dem\")     0.0679      0.025      2.727      0.053      -0.001       0.137\n",
      "==============================================================================\n",
      "Omnibus:                        0.135   Durbin-Watson:                   2.874\n",
      "Prob(Omnibus):                  0.935   Jarque-Bera (JB):                0.032\n",
      "Skew:                           0.000   Prob(JB):                        0.984\n",
      "Kurtosis:                       2.798   Cond. No.                     9.17e+28\n",
      "==============================================================================\n",
      "\n",
      "Warnings:\n",
      "[1] Standard Errors assume that the covariance matrix of the errors is correctly specified.\n",
      "[2] The smallest eigenvalue is 7.77e-56. This might indicate that there are\n",
      "strong multicollinearity problems or that the design matrix is singular.\n",
      "vote_share ~ Q(\"president\") + Q(\"turnout\") + Q(\"pres_elec_year\") + Q(\"unemployment\") + Q(\"current_presidents_dem\") + C(election_year)\n"
     ]
    }
   ],
   "source": [
    "trial = smf.ols(build_model, data=df).fit()\n",
    "print(trial.summary())\n",
    "trial.rsquared\n",
    "print(build_model)"
   ]
  },
  {
   "cell_type": "code",
   "execution_count": 89,
   "metadata": {},
   "outputs": [],
   "source": [
    "best_model = ''\n",
    "best_rsquared = 0\n",
    "\n",
    "for i in range(5):\n",
    "    group_of_items = set(all_feats)\n",
    "    num_to_select = 4\n",
    "    feats = random.sample(group_of_items, num_to_select)\n",
    "    \n",
    "    build_model = 'vote_share ~ '\n",
    "    for f in feats:\n",
    "        build_model = build_model + 'Q(\"' + str(f) + '\")' + ' + '\n",
    "    build_model = build_model + \"C(election_year)\"\n",
    "    \n",
    "    trial = smf.ols(build_model, data=df).fit()\n",
    "    if trial.rsquared > best_rsquared:\n",
    "        best_model = build_model\n",
    "        best_rsquared = trial.rsquared"
   ]
  },
  {
   "cell_type": "markdown",
   "metadata": {},
   "source": [
    "## This model is decent\n",
    "\n",
    "vote_share ~ Q(\"president\") + Q(\"turnout\") + Q(\"pres_elec_year\") + Q(\"unemployment\") + Q(\"current_presidents_dem\") + C(election_year)"
   ]
  },
  {
   "cell_type": "code",
   "execution_count": 90,
   "metadata": {},
   "outputs": [
    {
     "data": {
      "text/plain": [
       "'vote_share ~ Q(\"governor\") + Q(\"candidate_white\") + Q(\"current_presidents_dem\") + Q(\"president\") + C(election_year)'"
      ]
     },
     "execution_count": 90,
     "metadata": {},
     "output_type": "execute_result"
    }
   ],
   "source": [
    "best_model"
   ]
  },
  {
   "cell_type": "code",
   "execution_count": 91,
   "metadata": {},
   "outputs": [
    {
     "data": {
      "text/plain": [
       "0.8894968750684702"
      ]
     },
     "execution_count": 91,
     "metadata": {},
     "output_type": "execute_result"
    }
   ],
   "source": [
    "best_rsquared"
   ]
  }
 ],
 "metadata": {
  "kernelspec": {
   "display_name": "Python 3",
   "language": "python",
   "name": "python3"
  },
  "language_info": {
   "codemirror_mode": {
    "name": "ipython",
    "version": 3
   },
   "file_extension": ".py",
   "mimetype": "text/x-python",
   "name": "python",
   "nbconvert_exporter": "python",
   "pygments_lexer": "ipython3",
   "version": "3.6.4"
  }
 },
 "nbformat": 4,
 "nbformat_minor": 2
}
