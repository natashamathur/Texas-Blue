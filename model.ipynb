{
 "cells": [
  {
   "cell_type": "markdown",
   "metadata": {},
   "source": [
    "## Imports and Functions"
   ]
  },
  {
   "cell_type": "markdown",
   "metadata": {},
   "source": [
    "#### The code in the file ML.py is modified from material for Rayid Ghani's Spring 2018 ML for Public Policy course."
   ]
  },
  {
   "cell_type": "code",
   "execution_count": 1,
   "metadata": {},
   "outputs": [],
   "source": [
    "from data_functions import *\n",
    "from ML_continuous import *\n",
    "\n",
    "import warnings\n",
    "warnings.filterwarnings('ignore')"
   ]
  },
  {
   "cell_type": "code",
   "execution_count": 2,
   "metadata": {},
   "outputs": [],
   "source": [
    "def temporal_train_test_data_split(df, features, filter_var, outcome_var):\n",
    "    start_date = 1992\n",
    "    training_end_date = 2014\n",
    "    testing_end_date = 2018\n",
    "\n",
    "    y_df = df[[filter_var, outcome_var]]\n",
    "\n",
    "    x_train_filter_by_date = filter_df_by_date_range(df, filter_var, training_end_date, testing_end_date)\n",
    "    x_test_filter_by_date = filter_df_by_date_range(df, filter_var, start_date, training_end_date)\n",
    "\n",
    "    y_train_filter_by_date = filter_df_by_date_range(y_df, filter_var, training_end_date, testing_end_date)\n",
    "    y_test_filter_by_date = filter_df_by_date_range(y_df, filter_var, start_date, training_end_date)\n",
    "\n",
    "    x_train = x_train_filter_by_date[features]\n",
    "    x_test = x_test_filter_by_date[features]\n",
    "\n",
    "    y_train = y_train_filter_by_date[outcome_var]\n",
    "    y_test = y_test_filter_by_date[outcome_var]\n",
    "\n",
    "    return x_test, x_train, y_test, y_train"
   ]
  },
  {
   "cell_type": "markdown",
   "metadata": {},
   "source": [
    "### Open and reformat data"
   ]
  },
  {
   "cell_type": "code",
   "execution_count": 3,
   "metadata": {},
   "outputs": [
    {
     "data": {
      "text/plain": [
       "Index(['Election Year', 'Pres', 'Mid', 'Top-of-ticket-dem-vote-share',\n",
       "       'Presidential-dem-vote-share', 'gubernatorial_dem_vote_share',\n",
       "       'senate_dem_vote_share', 'current_presidents_dem', 'unemployment',\n",
       "       'turnout'],\n",
       "      dtype='object')"
      ]
     },
     "execution_count": 3,
     "metadata": {},
     "output_type": "execute_result"
    }
   ],
   "source": [
    "data = read('texas_info.xlsx')[:14]\n",
    "data.columns"
   ]
  },
  {
   "cell_type": "markdown",
   "metadata": {},
   "source": [
    "#### Add columns that could be useful."
   ]
  },
  {
   "cell_type": "code",
   "execution_count": null,
   "metadata": {},
   "outputs": [],
   "source": [
    "df = pd.concat([data, pd.get_dummies(use['Election Year'])], axis=1)"
   ]
  },
  {
   "cell_type": "code",
   "execution_count": 14,
   "metadata": {},
   "outputs": [],
   "source": [
    "df = df.rename(columns={'Top-of-ticket-dem-vote-share':'tot_vote_share'})"
   ]
  },
  {
   "cell_type": "code",
   "execution_count": 15,
   "metadata": {},
   "outputs": [],
   "source": [
    "df['candidate_gender'] = "
   ]
  },
  {
   "cell_type": "code",
   "execution_count": 16,
   "metadata": {},
   "outputs": [
    {
     "data": {
      "text/plain": [
       "Index([         'Election Year',                   'Pres',\n",
       "                          'Mid',         'tot_vote_share',\n",
       "       'current_presidents_dem',           'unemployment',\n",
       "                      'turnout',                     1992,\n",
       "                           1994,                     1996,\n",
       "                           1998,                     2000,\n",
       "                           2002,                     2004,\n",
       "                           2006,                     2008,\n",
       "                           2010,                     2012,\n",
       "                           2014,                     2016,\n",
       "                           2018],\n",
       "      dtype='object')"
      ]
     },
     "execution_count": 16,
     "metadata": {},
     "output_type": "execute_result"
    }
   ],
   "source": [
    "df.columns"
   ]
  },
  {
   "cell_type": "code",
   "execution_count": 17,
   "metadata": {},
   "outputs": [],
   "source": [
    "rfeats = ['Pres','tot_vote_share','current_presidents_dem',  'unemployment', 'turnout', 1994,                           1996,\n",
    "                                 1998,                           2000,\n",
    "                                 2002,                           2004,\n",
    "                                 2006,                           2008,\n",
    "                                 2010,                           2012,\n",
    "                                 2014,                           2016,\n",
    "                                 2018]"
   ]
  },
  {
   "cell_type": "markdown",
   "metadata": {},
   "source": [
    "### Models"
   ]
  },
  {
   "cell_type": "code",
   "execution_count": 18,
   "metadata": {},
   "outputs": [],
   "source": [
    "import statsmodels.api as sm\n",
    "import statsmodels.formula.api as smf"
   ]
  },
  {
   "cell_type": "code",
   "execution_count": 23,
   "metadata": {},
   "outputs": [
    {
     "name": "stdout",
     "output_type": "stream",
     "text": [
      "                            OLS Regression Results                            \n",
      "==============================================================================\n",
      "Dep. Variable:         tot_vote_share   R-squared:                       0.347\n",
      "Model:                            OLS   Adj. R-squared:                  0.057\n",
      "Method:                 Least Squares   F-statistic:                     1.198\n",
      "Date:                Mon, 12 Nov 2018   Prob (F-statistic):              0.376\n",
      "Time:                        20:33:20   Log-Likelihood:                 26.539\n",
      "No. Observations:                  14   AIC:                            -43.08\n",
      "Df Residuals:                       9   BIC:                            -39.88\n",
      "Df Model:                           4                                         \n",
      "Covariance Type:            nonrobust                                         \n",
      "==========================================================================================\n",
      "                             coef    std err          t      P>|t|      [0.025      0.975]\n",
      "------------------------------------------------------------------------------------------\n",
      "Intercept                  0.2047      0.097      2.101      0.065      -0.016       0.425\n",
      "Pres[T.1]                 -0.0344      0.038     -0.895      0.394      -0.121       0.052\n",
      "current_presidents_dem     0.0169      0.027      0.616      0.553      -0.045       0.079\n",
      "unemployment               0.0105      0.011      0.963      0.361      -0.014       0.035\n",
      "turnout                    0.3553      0.190      1.869      0.094      -0.075       0.785\n",
      "==============================================================================\n",
      "Omnibus:                        0.834   Durbin-Watson:                   2.172\n",
      "Prob(Omnibus):                  0.659   Jarque-Bera (JB):                0.765\n",
      "Skew:                          -0.362   Prob(JB):                        0.682\n",
      "Kurtosis:                       2.114   Cond. No.                         102.\n",
      "==============================================================================\n",
      "\n",
      "Warnings:\n",
      "[1] Standard Errors assume that the covariance matrix of the errors is correctly specified.\n"
     ]
    }
   ],
   "source": [
    "trial = smf.ols('tot_vote_share ~ Pres + current_presidents_dem + unemployment + turnout', data=df).fit()\n",
    "print(trial.summary())"
   ]
  }
 ],
 "metadata": {
  "kernelspec": {
   "display_name": "Python 3",
   "language": "python",
   "name": "python3"
  },
  "language_info": {
   "codemirror_mode": {
    "name": "ipython",
    "version": 3
   },
   "file_extension": ".py",
   "mimetype": "text/x-python",
   "name": "python",
   "nbconvert_exporter": "python",
   "pygments_lexer": "ipython3",
   "version": "3.6.4"
  }
 },
 "nbformat": 4,
 "nbformat_minor": 2
}
