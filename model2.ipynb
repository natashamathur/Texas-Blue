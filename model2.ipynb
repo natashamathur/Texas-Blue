{
 "cells": [
  {
   "cell_type": "code",
   "execution_count": 1,
   "metadata": {},
   "outputs": [],
   "source": [
    "from data_functions import *\n",
    "from ML_continuous import *\n",
    "\n",
    "import warnings\n",
    "warnings.filterwarnings('ignore')\n",
    "\n",
    "import statsmodels.api as sm\n",
    "import statsmodels.formula.api as smf\n",
    "\n",
    "import random"
   ]
  },
  {
   "cell_type": "code",
   "execution_count": 2,
   "metadata": {},
   "outputs": [],
   "source": [
    "for_pres = read('texas_president.xlsx')\n",
    "for_pres = for_pres.rename(index=str, columns={\"count\": \"county\"})\n",
    "for_pres = for_pres.rename(index=str, columns={\"Urbanization Status\": \"urban\", \"Border Status\": \"border\"})"
   ]
  },
  {
   "cell_type": "code",
   "execution_count": 3,
   "metadata": {},
   "outputs": [
    {
     "name": "stdout",
     "output_type": "stream",
     "text": [
      "(308, 4)\n"
     ]
    }
   ],
   "source": [
    "for_house = read('texas_counties.xlsx')\n",
    "for_house = for_house.rename(index=str, columns={\"rep_number\": \"district_num\", \"candidate_name\": \"dem_candidate\", \"dem_vote_share\": \"two_party_vtshare\", \"Urbanization Status\": \"urban\", \"Border Status\": \"border\"})\n",
    "for_house = for_house[for_house.county != 'ALL COUNTIES']\n",
    "print(for_house.shape)"
   ]
  },
  {
   "cell_type": "code",
   "execution_count": 4,
   "metadata": {},
   "outputs": [],
   "source": [
    "counties = list(for_pres.county)\n",
    "\n",
    "county_nums = {}\n",
    "val = 1\n",
    "for c in counties:\n",
    "    county_nums[c] = val\n",
    "    val += 1\n",
    "    \n",
    "for_house['county_num'] = for_house.county.apply(lambda x: county_nums[x])\n",
    "for_house['office'] = 'house'\n",
    "for_house = for_house[(for_house.two_party_vtshare != 1) & (for_house.two_party_vtshare != 0)]"
   ]
  },
  {
   "cell_type": "markdown",
   "metadata": {},
   "source": [
    "## Info data frames will contain all the demographic etc information for each of those entities: county, pres candidate, or house candidate. To be combined after research is finished"
   ]
  },
  {
   "cell_type": "code",
   "execution_count": 5,
   "metadata": {},
   "outputs": [],
   "source": [
    "county_info = for_pres[['county', 'county_num', 'urban', 'border']]\n",
    "county_info['urban'] = county_info.urban.apply(lambda x: 1 if x == 'Urban' else 0)\n",
    "county_info['border'] = county_info.urban.apply(lambda x: 1 if x == 'Border' else 0)"
   ]
  },
  {
   "cell_type": "code",
   "execution_count": 6,
   "metadata": {},
   "outputs": [],
   "source": [
    "pres_info = for_pres[['office', 'dem_candidate', 'two_party_vtshare', 'candidate_male', 'candidate_white', 'candidate_hispanic']]\n",
    "#pres_info = pres_candidates.groupby(['dem_candidate','office']).median()\n",
    "#pres_info = pres_candidates.rename(index=str, columns={\"two_party_vtshare\": \"med_two_party_vtshare\"})"
   ]
  },
  {
   "cell_type": "code",
   "execution_count": 8,
   "metadata": {},
   "outputs": [],
   "source": [
    "house_info = for_house[['district_num', 'office', 'dem_candidate', 'two_party_vtshare']]\n",
    "house_info = house_info.groupby(['dem_candidate','office']).median()\n",
    "house_info = house_info.rename(index=str, columns={\"two_party_vtshare\": \"med_two_party_vtshare\"})"
   ]
  },
  {
   "cell_type": "code",
   "execution_count": 10,
   "metadata": {},
   "outputs": [],
   "source": [
    "house_info.to_csv('house_candidates_to_add_info.csv')"
   ]
  },
  {
   "cell_type": "code",
   "execution_count": 11,
   "metadata": {},
   "outputs": [
    {
     "data": {
      "text/plain": [
       "Index(['county', 'district_num', 'dem_candidate', 'two_party_vtshare',\n",
       "       'county_num', 'office', 'urban', 'border'],\n",
       "      dtype='object')"
      ]
     },
     "execution_count": 11,
     "metadata": {},
     "output_type": "execute_result"
    }
   ],
   "source": [
    "for_house = for_house.merge(county_info, on=['county', 'county_num'])\n",
    "for_house.columns"
   ]
  },
  {
   "cell_type": "code",
   "execution_count": null,
   "metadata": {},
   "outputs": [],
   "source": []
  }
 ],
 "metadata": {
  "kernelspec": {
   "display_name": "Python 3",
   "language": "python",
   "name": "python3"
  },
  "language_info": {
   "codemirror_mode": {
    "name": "ipython",
    "version": 3
   },
   "file_extension": ".py",
   "mimetype": "text/x-python",
   "name": "python",
   "nbconvert_exporter": "python",
   "pygments_lexer": "ipython3",
   "version": "3.6.4"
  }
 },
 "nbformat": 4,
 "nbformat_minor": 2
}
