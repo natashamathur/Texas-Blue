{
 "cells": [
  {
   "cell_type": "code",
   "execution_count": 1,
   "metadata": {},
   "outputs": [],
   "source": [
    "from data_functions import *\n",
    "from ML_continuous import *\n",
    "\n",
    "import warnings\n",
    "warnings.filterwarnings('ignore')\n",
    "\n",
    "import statsmodels.api as sm\n",
    "import statsmodels.formula.api as smf\n",
    "\n",
    "import random"
   ]
  },
  {
   "cell_type": "code",
   "execution_count": 2,
   "metadata": {},
   "outputs": [],
   "source": [
    "for_pres = read('texas_president.xlsx')\n",
    "for_pres = for_pres.rename(index=str, columns={\"count\": \"county\"})"
   ]
  },
  {
   "cell_type": "code",
   "execution_count": 67,
   "metadata": {},
   "outputs": [
    {
     "name": "stdout",
     "output_type": "stream",
     "text": [
      "(308, 4)\n"
     ]
    }
   ],
   "source": [
    "for_house = read('texas_counties.xlsx')\n",
    "for_house = for_house.rename(index=str, columns={\"rep_number\": \"district_num\", \"candidate_name\": \"dem_candidate\", \"dem_vote_share\": \"two_party_vtshare\"})\n",
    "for_house = for_house[for_house.county != 'ALL COUNTIES']\n",
    "print(for_house.shape)"
   ]
  },
  {
   "cell_type": "code",
   "execution_count": 58,
   "metadata": {},
   "outputs": [],
   "source": [
    "counties = list(for_pres.county)\n",
    "\n",
    "county_nums = {}\n",
    "val = 1\n",
    "for c in counties:\n",
    "    county_nums[c] = val\n",
    "    val += 1\n",
    "    \n",
    "for_house['county_num'] = for_house.county.apply(lambda x: county_nums[x])\n",
    "for_house['office'] = 'house'"
   ]
  },
  {
   "cell_type": "code",
   "execution_count": 70,
   "metadata": {},
   "outputs": [
    {
     "data": {
      "text/plain": [
       "254"
      ]
     },
     "execution_count": 70,
     "metadata": {},
     "output_type": "execute_result"
    }
   ],
   "source": [
    "len(counties)"
   ]
  },
  {
   "cell_type": "code",
   "execution_count": 59,
   "metadata": {},
   "outputs": [],
   "source": [
    "county_info = for_pres[['county', 'county_num', 'Urbanization Status', 'Border Status']]\n",
    "county_info.columns = ['county', 'county_num', 'urban', 'border']\n",
    "county_info['urban'] = county_info.urban.apply(lambda x: 1 if x == 'Urban' else 0)\n",
    "county_info['border'] = county_info.urban.apply(lambda x: 1 if x == 'Border' else 0)"
   ]
  },
  {
   "cell_type": "code",
   "execution_count": 60,
   "metadata": {},
   "outputs": [],
   "source": [
    "pres_candidates = for_pres[['office', 'dem_candidate', 'two_party_vtshare', 'candidate_male', 'candidate_white', 'candidate_hispanic']]\n",
    "pres_candidates = pres_candidates.groupby(['dem_candidate','office']).median()\n",
    "pres_candidates = pres_candidates.rename(index=str, columns={\"two_party_vtshare\": \"med_two_party_vtshare\"})"
   ]
  },
  {
   "cell_type": "code",
   "execution_count": 61,
   "metadata": {},
   "outputs": [
    {
     "data": {
      "text/html": [
       "<div>\n",
       "<style scoped>\n",
       "    .dataframe tbody tr th:only-of-type {\n",
       "        vertical-align: middle;\n",
       "    }\n",
       "\n",
       "    .dataframe tbody tr th {\n",
       "        vertical-align: top;\n",
       "    }\n",
       "\n",
       "    .dataframe thead th {\n",
       "        text-align: right;\n",
       "    }\n",
       "</style>\n",
       "<table border=\"1\" class=\"dataframe\">\n",
       "  <thead>\n",
       "    <tr style=\"text-align: right;\">\n",
       "      <th></th>\n",
       "      <th></th>\n",
       "      <th>med_two_party_vtshare</th>\n",
       "      <th>candidate_male</th>\n",
       "      <th>candidate_white</th>\n",
       "      <th>candidate_hispanic</th>\n",
       "    </tr>\n",
       "    <tr>\n",
       "      <th>dem_candidate</th>\n",
       "      <th>office</th>\n",
       "      <th></th>\n",
       "      <th></th>\n",
       "      <th></th>\n",
       "      <th></th>\n",
       "    </tr>\n",
       "  </thead>\n",
       "  <tbody>\n",
       "    <tr>\n",
       "      <th>Hillary Clinton</th>\n",
       "      <th>President</th>\n",
       "      <td>0.211562</td>\n",
       "      <td>0</td>\n",
       "      <td>1</td>\n",
       "      <td>0</td>\n",
       "    </tr>\n",
       "  </tbody>\n",
       "</table>\n",
       "</div>"
      ],
      "text/plain": [
       "                           med_two_party_vtshare  candidate_male  \\\n",
       "dem_candidate   office                                             \n",
       "Hillary Clinton President               0.211562               0   \n",
       "\n",
       "                           candidate_white  candidate_hispanic  \n",
       "dem_candidate   office                                          \n",
       "Hillary Clinton President                1                   0  "
      ]
     },
     "execution_count": 61,
     "metadata": {},
     "output_type": "execute_result"
    }
   ],
   "source": [
    "pres_candidates"
   ]
  },
  {
   "cell_type": "code",
   "execution_count": 62,
   "metadata": {},
   "outputs": [],
   "source": [
    "house_candidates = for_house[['district_num', 'office', 'dem_candidate', 'two_party_vtshare']]\n",
    "house_candidates = house_candidates.groupby(['dem_candidate','office']).median()\n",
    "house_candidates = house_candidates.rename(index=str, columns={\"two_party_vtshare\": \"med_two_party_vtshare\"})"
   ]
  },
  {
   "cell_type": "code",
   "execution_count": 63,
   "metadata": {},
   "outputs": [
    {
     "data": {
      "text/plain": [
       "31"
      ]
     },
     "execution_count": 63,
     "metadata": {},
     "output_type": "execute_result"
    }
   ],
   "source": [
    "candidates = list(for_house.dem_candidate.unique()) + ['Hillary Clinton']\n",
    "len(candidates)"
   ]
  },
  {
   "cell_type": "code",
   "execution_count": 68,
   "metadata": {},
   "outputs": [],
   "source": [
    "house_candidates.to_csv('house_candidates_to_add_info.csv')"
   ]
  },
  {
   "cell_type": "code",
   "execution_count": 69,
   "metadata": {},
   "outputs": [
    {
     "data": {
      "text/plain": [
       "['Shirley McKellar',\n",
       " 'Pat Bryan',\n",
       " 'Adam P. Bell',\n",
       " nan,\n",
       " 'Ruby Faye Woolridge',\n",
       " 'James Cargas',\n",
       " 'Al Green',\n",
       " 'Tawana W. Cadien',\n",
       " 'Bill Bradshaw',\n",
       " 'Michael Cole',\n",
       " 'Vincete Gonzalez',\n",
       " \"Beto O'Rourke\",\n",
       " 'William Matta',\n",
       " 'Sheila Jackson Lee',\n",
       " 'Joaquin Castro',\n",
       " 'Tom Wakely',\n",
       " 'Mark Gibson',\n",
       " 'Pete P. Gallego',\n",
       " 'Jan McDowell',\n",
       " 'Kathi Thomas',\n",
       " 'Eric Mauck',\n",
       " 'Raul (Roy) Barrera',\n",
       " 'Henry Cuellar',\n",
       " 'Gene Green',\n",
       " 'Eddie Bernice Johnson',\n",
       " 'Mike Clark',\n",
       " 'Marc Veasy',\n",
       " 'Filemon B. Vela',\n",
       " 'Lloyd Doggett',\n",
       " 'Hal J Ridley Jr. ',\n",
       " 'Hillary Clinton']"
      ]
     },
     "execution_count": 69,
     "metadata": {},
     "output_type": "execute_result"
    }
   ],
   "source": [
    "candidates"
   ]
  },
  {
   "cell_type": "code",
   "execution_count": null,
   "metadata": {},
   "outputs": [],
   "source": []
  }
 ],
 "metadata": {
  "kernelspec": {
   "display_name": "Python 3",
   "language": "python",
   "name": "python3"
  },
  "language_info": {
   "codemirror_mode": {
    "name": "ipython",
    "version": 3
   },
   "file_extension": ".py",
   "mimetype": "text/x-python",
   "name": "python",
   "nbconvert_exporter": "python",
   "pygments_lexer": "ipython3",
   "version": "3.6.4"
  }
 },
 "nbformat": 4,
 "nbformat_minor": 2
}
