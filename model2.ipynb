{
 "cells": [
  {
   "cell_type": "code",
   "execution_count": 1,
   "metadata": {},
   "outputs": [],
   "source": [
    "from data_functions import *\n",
    "\n",
    "import warnings\n",
    "warnings.filterwarnings('ignore')\n",
    "\n",
    "import statsmodels.api as sm\n",
    "import statsmodels.formula.api as smf\n",
    "\n",
    "import random"
   ]
  },
  {
   "cell_type": "code",
   "execution_count": 2,
   "metadata": {},
   "outputs": [],
   "source": [
    "for_pres = read('texas_president.xlsx')\n",
    "for_pres = for_pres.rename(index=str, columns={\"count\": \"county\"})\n",
    "for_pres = for_pres.rename(index=str, columns={\"Urbanization Status\": \"urban\", \"Border Status\": \"border\"})"
   ]
  },
  {
   "cell_type": "code",
   "execution_count": 3,
   "metadata": {},
   "outputs": [],
   "source": [
    "dist_count = read('main_district_for_counties.csv')"
   ]
  },
  {
   "cell_type": "code",
   "execution_count": 4,
   "metadata": {},
   "outputs": [],
   "source": [
    "temp_pres = for_pres.merge(dist_count, left_on='county', right_on ='Unnamed: 0')"
   ]
  },
  {
   "cell_type": "code",
   "execution_count": 5,
   "metadata": {},
   "outputs": [
    {
     "data": {
      "text/plain": [
       "\"\\nfor_house['county_num'] = for_house.county.apply(lambda x: county_nums[x])\\nfor_house['office'] = 'house'\\nfor_house = for_house[(for_house.two_party_vtshare != 1) & (for_house.two_party_vtshare != 0)]\\n\""
      ]
     },
     "execution_count": 5,
     "metadata": {},
     "output_type": "execute_result"
    }
   ],
   "source": [
    "counties = list(for_pres.county)\n",
    "\n",
    "county_nums = {}\n",
    "val = 1\n",
    "for c in counties:\n",
    "    county_nums[c] = val\n",
    "    val += 1\n",
    "\n",
    "'''\n",
    "for_house['county_num'] = for_house.county.apply(lambda x: county_nums[x])\n",
    "for_house['office'] = 'house'\n",
    "for_house = for_house[(for_house.two_party_vtshare != 1) & (for_house.two_party_vtshare != 0)]\n",
    "'''"
   ]
  },
  {
   "cell_type": "markdown",
   "metadata": {},
   "source": [
    "## COUNTY INFO"
   ]
  },
  {
   "cell_type": "code",
   "execution_count": 6,
   "metadata": {},
   "outputs": [],
   "source": [
    "county_info = for_pres[['county', 'county_num', 'urban', 'border']]\n",
    "county_info['urban'] = county_info.urban.apply(lambda x: 1 if x == 'Urban' else 0)\n",
    "county_info['border'] = county_info.urban.apply(lambda x: 1 if x == 'Border' else 0)"
   ]
  },
  {
   "cell_type": "code",
   "execution_count": 7,
   "metadata": {},
   "outputs": [
    {
     "data": {
      "text/plain": [
       "0    254\n",
       "Name: border, dtype: int64"
      ]
     },
     "execution_count": 7,
     "metadata": {},
     "output_type": "execute_result"
    }
   ],
   "source": [
    "county_info.border.value_counts()"
   ]
  },
  {
   "cell_type": "code",
   "execution_count": 8,
   "metadata": {},
   "outputs": [],
   "source": [
    "cd = read('demo.csv')\n",
    "cd = cd.drop(['Unnamed: 0','FIPS','Age'], axis=1)[1:]\n",
    "cd.County = cd.County.apply(lambda x: x.split(\" \")[0])\n",
    "cd = cd[['County', 'Total', 'Total Female', 'Hispanic Total']]\n",
    "cd['percent_female'] = cd['Total Female'] / cd['Total']\n",
    "cd['percent_hispanic'] = cd['Hispanic Total'] / cd['Total']\n",
    "\n",
    "cd.columns = ['county', 'population', 'Total Female', 'Hispanic Total', 'percent_female','percent_hispanic']\n",
    "cd = cd[['county', 'population', 'percent_female','percent_hispanic']]\n",
    "county_info = county_info.merge(cd)\n",
    "\n",
    "vc = read('vets_and_crimes.xlsx')\n",
    "vc.county = vc.county.apply(lambda x: x.upper())\n",
    "county_info = county_info.merge(vc)\n",
    "county_info = county_info.drop(['crimes_per_100k'], axis=1)"
   ]
  },
  {
   "cell_type": "markdown",
   "metadata": {},
   "source": [
    "## NEXT INFO"
   ]
  },
  {
   "cell_type": "code",
   "execution_count": 9,
   "metadata": {},
   "outputs": [],
   "source": [
    "temp_pres = temp_pres.rename(index=str, columns={\"1\": \"district_num\"})"
   ]
  },
  {
   "cell_type": "code",
   "execution_count": 10,
   "metadata": {},
   "outputs": [
    {
     "data": {
      "text/html": [
       "<style  type=\"text/css\" >\n",
       "</style>  \n",
       "<table id=\"T_35f3f7c6_f015_11e8_a066_f0189800a658\" > \n",
       "<thead>    <tr> \n",
       "        <th class=\"blank level0\" ></th> \n",
       "        <th class=\"col_heading level0 col0\" >county</th> \n",
       "        <th class=\"col_heading level0 col1\" >county_num</th> \n",
       "        <th class=\"col_heading level0 col2\" >office</th> \n",
       "        <th class=\"col_heading level0 col3\" >dem_candidate</th> \n",
       "        <th class=\"col_heading level0 col4\" >two_party_vtshare</th> \n",
       "        <th class=\"col_heading level0 col5\" >candidate_male</th> \n",
       "        <th class=\"col_heading level0 col6\" >candidate_white</th> \n",
       "        <th class=\"col_heading level0 col7\" >candidate_hispanic</th> \n",
       "        <th class=\"col_heading level0 col8\" >urban</th> \n",
       "        <th class=\"col_heading level0 col9\" >border</th> \n",
       "        <th class=\"col_heading level0 col10\" >pro_gun</th> \n",
       "        <th class=\"col_heading level0 col11\" >pro_choice</th> \n",
       "        <th class=\"col_heading level0 col12\" >climate_pro</th> \n",
       "        <th class=\"col_heading level0 col13\" >Unnamed: 0</th> \n",
       "        <th class=\"col_heading level0 col14\" >district_num</th> \n",
       "    </tr></thead> \n",
       "<tbody>    <tr> \n",
       "        <th id=\"T_35f3f7c6_f015_11e8_a066_f0189800a658level0_row0\" class=\"row_heading level0 row0\" >0</th> \n",
       "        <td id=\"T_35f3f7c6_f015_11e8_a066_f0189800a658row0_col0\" class=\"data row0 col0\" >ANDERSON</td> \n",
       "        <td id=\"T_35f3f7c6_f015_11e8_a066_f0189800a658row0_col1\" class=\"data row0 col1\" >1</td> \n",
       "        <td id=\"T_35f3f7c6_f015_11e8_a066_f0189800a658row0_col2\" class=\"data row0 col2\" >President</td> \n",
       "        <td id=\"T_35f3f7c6_f015_11e8_a066_f0189800a658row0_col3\" class=\"data row0 col3\" >Hillary Clinton</td> \n",
       "        <td id=\"T_35f3f7c6_f015_11e8_a066_f0189800a658row0_col4\" class=\"data row0 col4\" >0.203319</td> \n",
       "        <td id=\"T_35f3f7c6_f015_11e8_a066_f0189800a658row0_col5\" class=\"data row0 col5\" >0</td> \n",
       "        <td id=\"T_35f3f7c6_f015_11e8_a066_f0189800a658row0_col6\" class=\"data row0 col6\" >1</td> \n",
       "        <td id=\"T_35f3f7c6_f015_11e8_a066_f0189800a658row0_col7\" class=\"data row0 col7\" >0</td> \n",
       "        <td id=\"T_35f3f7c6_f015_11e8_a066_f0189800a658row0_col8\" class=\"data row0 col8\" >Rural</td> \n",
       "        <td id=\"T_35f3f7c6_f015_11e8_a066_f0189800a658row0_col9\" class=\"data row0 col9\" >Non-Border</td> \n",
       "        <td id=\"T_35f3f7c6_f015_11e8_a066_f0189800a658row0_col10\" class=\"data row0 col10\" >0</td> \n",
       "        <td id=\"T_35f3f7c6_f015_11e8_a066_f0189800a658row0_col11\" class=\"data row0 col11\" >1</td> \n",
       "        <td id=\"T_35f3f7c6_f015_11e8_a066_f0189800a658row0_col12\" class=\"data row0 col12\" >1</td> \n",
       "        <td id=\"T_35f3f7c6_f015_11e8_a066_f0189800a658row0_col13\" class=\"data row0 col13\" >ANDERSON</td> \n",
       "        <td id=\"T_35f3f7c6_f015_11e8_a066_f0189800a658row0_col14\" class=\"data row0 col14\" >5</td> \n",
       "    </tr>    <tr> \n",
       "        <th id=\"T_35f3f7c6_f015_11e8_a066_f0189800a658level0_row1\" class=\"row_heading level0 row1\" >1</th> \n",
       "        <td id=\"T_35f3f7c6_f015_11e8_a066_f0189800a658row1_col0\" class=\"data row1 col0\" >ANDREWS</td> \n",
       "        <td id=\"T_35f3f7c6_f015_11e8_a066_f0189800a658row1_col1\" class=\"data row1 col1\" >2</td> \n",
       "        <td id=\"T_35f3f7c6_f015_11e8_a066_f0189800a658row1_col2\" class=\"data row1 col2\" >President</td> \n",
       "        <td id=\"T_35f3f7c6_f015_11e8_a066_f0189800a658row1_col3\" class=\"data row1 col3\" >Hillary Clinton</td> \n",
       "        <td id=\"T_35f3f7c6_f015_11e8_a066_f0189800a658row1_col4\" class=\"data row1 col4\" >0.17552</td> \n",
       "        <td id=\"T_35f3f7c6_f015_11e8_a066_f0189800a658row1_col5\" class=\"data row1 col5\" >0</td> \n",
       "        <td id=\"T_35f3f7c6_f015_11e8_a066_f0189800a658row1_col6\" class=\"data row1 col6\" >1</td> \n",
       "        <td id=\"T_35f3f7c6_f015_11e8_a066_f0189800a658row1_col7\" class=\"data row1 col7\" >0</td> \n",
       "        <td id=\"T_35f3f7c6_f015_11e8_a066_f0189800a658row1_col8\" class=\"data row1 col8\" >Rural</td> \n",
       "        <td id=\"T_35f3f7c6_f015_11e8_a066_f0189800a658row1_col9\" class=\"data row1 col9\" >Non-Border</td> \n",
       "        <td id=\"T_35f3f7c6_f015_11e8_a066_f0189800a658row1_col10\" class=\"data row1 col10\" >0</td> \n",
       "        <td id=\"T_35f3f7c6_f015_11e8_a066_f0189800a658row1_col11\" class=\"data row1 col11\" >1</td> \n",
       "        <td id=\"T_35f3f7c6_f015_11e8_a066_f0189800a658row1_col12\" class=\"data row1 col12\" >1</td> \n",
       "        <td id=\"T_35f3f7c6_f015_11e8_a066_f0189800a658row1_col13\" class=\"data row1 col13\" >ANDREWS</td> \n",
       "        <td id=\"T_35f3f7c6_f015_11e8_a066_f0189800a658row1_col14\" class=\"data row1 col14\" >11</td> \n",
       "    </tr>    <tr> \n",
       "        <th id=\"T_35f3f7c6_f015_11e8_a066_f0189800a658level0_row2\" class=\"row_heading level0 row2\" >2</th> \n",
       "        <td id=\"T_35f3f7c6_f015_11e8_a066_f0189800a658row2_col0\" class=\"data row2 col0\" >ANGELINA</td> \n",
       "        <td id=\"T_35f3f7c6_f015_11e8_a066_f0189800a658row2_col1\" class=\"data row2 col1\" >3</td> \n",
       "        <td id=\"T_35f3f7c6_f015_11e8_a066_f0189800a658row2_col2\" class=\"data row2 col2\" >President</td> \n",
       "        <td id=\"T_35f3f7c6_f015_11e8_a066_f0189800a658row2_col3\" class=\"data row2 col3\" >Hillary Clinton</td> \n",
       "        <td id=\"T_35f3f7c6_f015_11e8_a066_f0189800a658row2_col4\" class=\"data row2 col4\" >0.258098</td> \n",
       "        <td id=\"T_35f3f7c6_f015_11e8_a066_f0189800a658row2_col5\" class=\"data row2 col5\" >0</td> \n",
       "        <td id=\"T_35f3f7c6_f015_11e8_a066_f0189800a658row2_col6\" class=\"data row2 col6\" >1</td> \n",
       "        <td id=\"T_35f3f7c6_f015_11e8_a066_f0189800a658row2_col7\" class=\"data row2 col7\" >0</td> \n",
       "        <td id=\"T_35f3f7c6_f015_11e8_a066_f0189800a658row2_col8\" class=\"data row2 col8\" >Rural</td> \n",
       "        <td id=\"T_35f3f7c6_f015_11e8_a066_f0189800a658row2_col9\" class=\"data row2 col9\" >Non-Border</td> \n",
       "        <td id=\"T_35f3f7c6_f015_11e8_a066_f0189800a658row2_col10\" class=\"data row2 col10\" >0</td> \n",
       "        <td id=\"T_35f3f7c6_f015_11e8_a066_f0189800a658row2_col11\" class=\"data row2 col11\" >1</td> \n",
       "        <td id=\"T_35f3f7c6_f015_11e8_a066_f0189800a658row2_col12\" class=\"data row2 col12\" >1</td> \n",
       "        <td id=\"T_35f3f7c6_f015_11e8_a066_f0189800a658row2_col13\" class=\"data row2 col13\" >ANGELINA</td> \n",
       "        <td id=\"T_35f3f7c6_f015_11e8_a066_f0189800a658row2_col14\" class=\"data row2 col14\" >1</td> \n",
       "    </tr>    <tr> \n",
       "        <th id=\"T_35f3f7c6_f015_11e8_a066_f0189800a658level0_row3\" class=\"row_heading level0 row3\" >3</th> \n",
       "        <td id=\"T_35f3f7c6_f015_11e8_a066_f0189800a658row3_col0\" class=\"data row3 col0\" >ARANSAS</td> \n",
       "        <td id=\"T_35f3f7c6_f015_11e8_a066_f0189800a658row3_col1\" class=\"data row3 col1\" >4</td> \n",
       "        <td id=\"T_35f3f7c6_f015_11e8_a066_f0189800a658row3_col2\" class=\"data row3 col2\" >President</td> \n",
       "        <td id=\"T_35f3f7c6_f015_11e8_a066_f0189800a658row3_col3\" class=\"data row3 col3\" >Hillary Clinton</td> \n",
       "        <td id=\"T_35f3f7c6_f015_11e8_a066_f0189800a658row3_col4\" class=\"data row3 col4\" >0.241548</td> \n",
       "        <td id=\"T_35f3f7c6_f015_11e8_a066_f0189800a658row3_col5\" class=\"data row3 col5\" >0</td> \n",
       "        <td id=\"T_35f3f7c6_f015_11e8_a066_f0189800a658row3_col6\" class=\"data row3 col6\" >1</td> \n",
       "        <td id=\"T_35f3f7c6_f015_11e8_a066_f0189800a658row3_col7\" class=\"data row3 col7\" >0</td> \n",
       "        <td id=\"T_35f3f7c6_f015_11e8_a066_f0189800a658row3_col8\" class=\"data row3 col8\" >Urban</td> \n",
       "        <td id=\"T_35f3f7c6_f015_11e8_a066_f0189800a658row3_col9\" class=\"data row3 col9\" >Non-Border</td> \n",
       "        <td id=\"T_35f3f7c6_f015_11e8_a066_f0189800a658row3_col10\" class=\"data row3 col10\" >0</td> \n",
       "        <td id=\"T_35f3f7c6_f015_11e8_a066_f0189800a658row3_col11\" class=\"data row3 col11\" >1</td> \n",
       "        <td id=\"T_35f3f7c6_f015_11e8_a066_f0189800a658row3_col12\" class=\"data row3 col12\" >1</td> \n",
       "        <td id=\"T_35f3f7c6_f015_11e8_a066_f0189800a658row3_col13\" class=\"data row3 col13\" >ARANSAS</td> \n",
       "        <td id=\"T_35f3f7c6_f015_11e8_a066_f0189800a658row3_col14\" class=\"data row3 col14\" >27</td> \n",
       "    </tr>    <tr> \n",
       "        <th id=\"T_35f3f7c6_f015_11e8_a066_f0189800a658level0_row4\" class=\"row_heading level0 row4\" >4</th> \n",
       "        <td id=\"T_35f3f7c6_f015_11e8_a066_f0189800a658row4_col0\" class=\"data row4 col0\" >ARCHER</td> \n",
       "        <td id=\"T_35f3f7c6_f015_11e8_a066_f0189800a658row4_col1\" class=\"data row4 col1\" >5</td> \n",
       "        <td id=\"T_35f3f7c6_f015_11e8_a066_f0189800a658row4_col2\" class=\"data row4 col2\" >President</td> \n",
       "        <td id=\"T_35f3f7c6_f015_11e8_a066_f0189800a658row4_col3\" class=\"data row4 col3\" >Hillary Clinton</td> \n",
       "        <td id=\"T_35f3f7c6_f015_11e8_a066_f0189800a658row4_col4\" class=\"data row4 col4\" >0.0942584</td> \n",
       "        <td id=\"T_35f3f7c6_f015_11e8_a066_f0189800a658row4_col5\" class=\"data row4 col5\" >0</td> \n",
       "        <td id=\"T_35f3f7c6_f015_11e8_a066_f0189800a658row4_col6\" class=\"data row4 col6\" >1</td> \n",
       "        <td id=\"T_35f3f7c6_f015_11e8_a066_f0189800a658row4_col7\" class=\"data row4 col7\" >0</td> \n",
       "        <td id=\"T_35f3f7c6_f015_11e8_a066_f0189800a658row4_col8\" class=\"data row4 col8\" >Urban</td> \n",
       "        <td id=\"T_35f3f7c6_f015_11e8_a066_f0189800a658row4_col9\" class=\"data row4 col9\" >Non-Border</td> \n",
       "        <td id=\"T_35f3f7c6_f015_11e8_a066_f0189800a658row4_col10\" class=\"data row4 col10\" >0</td> \n",
       "        <td id=\"T_35f3f7c6_f015_11e8_a066_f0189800a658row4_col11\" class=\"data row4 col11\" >1</td> \n",
       "        <td id=\"T_35f3f7c6_f015_11e8_a066_f0189800a658row4_col12\" class=\"data row4 col12\" >1</td> \n",
       "        <td id=\"T_35f3f7c6_f015_11e8_a066_f0189800a658row4_col13\" class=\"data row4 col13\" >ARCHER</td> \n",
       "        <td id=\"T_35f3f7c6_f015_11e8_a066_f0189800a658row4_col14\" class=\"data row4 col14\" >13</td> \n",
       "    </tr></tbody> \n",
       "</table> "
      ],
      "text/plain": [
       "<pandas.io.formats.style.Styler at 0x10b89a160>"
      ]
     },
     "execution_count": 10,
     "metadata": {},
     "output_type": "execute_result"
    }
   ],
   "source": [
    "temp_pres.head().style"
   ]
  },
  {
   "cell_type": "code",
   "execution_count": 11,
   "metadata": {},
   "outputs": [],
   "source": [
    "temp_pres = temp_pres[['county', 'office', 'district_num', 'dem_candidate', 'two_party_vtshare', \n",
    "                       'county_num', 'office', 'pro_gun',\n",
    "                       'candidate_male', 'candidate_hispanic']]"
   ]
  },
  {
   "cell_type": "code",
   "execution_count": 12,
   "metadata": {},
   "outputs": [
    {
     "data": {
      "text/html": [
       "<div>\n",
       "<style scoped>\n",
       "    .dataframe tbody tr th:only-of-type {\n",
       "        vertical-align: middle;\n",
       "    }\n",
       "\n",
       "    .dataframe tbody tr th {\n",
       "        vertical-align: top;\n",
       "    }\n",
       "\n",
       "    .dataframe thead th {\n",
       "        text-align: right;\n",
       "    }\n",
       "</style>\n",
       "<table border=\"1\" class=\"dataframe\">\n",
       "  <thead>\n",
       "    <tr style=\"text-align: right;\">\n",
       "      <th></th>\n",
       "      <th>county</th>\n",
       "      <th>office</th>\n",
       "      <th>district_num</th>\n",
       "      <th>dem_candidate</th>\n",
       "      <th>two_party_vtshare</th>\n",
       "      <th>county_num</th>\n",
       "      <th>office</th>\n",
       "      <th>pro_gun</th>\n",
       "      <th>candidate_male</th>\n",
       "      <th>candidate_hispanic</th>\n",
       "    </tr>\n",
       "  </thead>\n",
       "  <tbody>\n",
       "    <tr>\n",
       "      <th>0</th>\n",
       "      <td>ANDERSON</td>\n",
       "      <td>President</td>\n",
       "      <td>5</td>\n",
       "      <td>Hillary Clinton</td>\n",
       "      <td>0.203319</td>\n",
       "      <td>1</td>\n",
       "      <td>President</td>\n",
       "      <td>0</td>\n",
       "      <td>0</td>\n",
       "      <td>0</td>\n",
       "    </tr>\n",
       "    <tr>\n",
       "      <th>1</th>\n",
       "      <td>ANDREWS</td>\n",
       "      <td>President</td>\n",
       "      <td>11</td>\n",
       "      <td>Hillary Clinton</td>\n",
       "      <td>0.175520</td>\n",
       "      <td>2</td>\n",
       "      <td>President</td>\n",
       "      <td>0</td>\n",
       "      <td>0</td>\n",
       "      <td>0</td>\n",
       "    </tr>\n",
       "    <tr>\n",
       "      <th>2</th>\n",
       "      <td>ANGELINA</td>\n",
       "      <td>President</td>\n",
       "      <td>1</td>\n",
       "      <td>Hillary Clinton</td>\n",
       "      <td>0.258098</td>\n",
       "      <td>3</td>\n",
       "      <td>President</td>\n",
       "      <td>0</td>\n",
       "      <td>0</td>\n",
       "      <td>0</td>\n",
       "    </tr>\n",
       "    <tr>\n",
       "      <th>3</th>\n",
       "      <td>ARANSAS</td>\n",
       "      <td>President</td>\n",
       "      <td>27</td>\n",
       "      <td>Hillary Clinton</td>\n",
       "      <td>0.241548</td>\n",
       "      <td>4</td>\n",
       "      <td>President</td>\n",
       "      <td>0</td>\n",
       "      <td>0</td>\n",
       "      <td>0</td>\n",
       "    </tr>\n",
       "    <tr>\n",
       "      <th>4</th>\n",
       "      <td>ARCHER</td>\n",
       "      <td>President</td>\n",
       "      <td>13</td>\n",
       "      <td>Hillary Clinton</td>\n",
       "      <td>0.094258</td>\n",
       "      <td>5</td>\n",
       "      <td>President</td>\n",
       "      <td>0</td>\n",
       "      <td>0</td>\n",
       "      <td>0</td>\n",
       "    </tr>\n",
       "  </tbody>\n",
       "</table>\n",
       "</div>"
      ],
      "text/plain": [
       "     county     office  district_num    dem_candidate  two_party_vtshare  \\\n",
       "0  ANDERSON  President             5  Hillary Clinton           0.203319   \n",
       "1   ANDREWS  President            11  Hillary Clinton           0.175520   \n",
       "2  ANGELINA  President             1  Hillary Clinton           0.258098   \n",
       "3   ARANSAS  President            27  Hillary Clinton           0.241548   \n",
       "4    ARCHER  President            13  Hillary Clinton           0.094258   \n",
       "\n",
       "   county_num     office  pro_gun candidate_male  candidate_hispanic  \n",
       "0           1  President        0              0                   0  \n",
       "1           2  President        0              0                   0  \n",
       "2           3  President        0              0                   0  \n",
       "3           4  President        0              0                   0  \n",
       "4           5  President        0              0                   0  "
      ]
     },
     "execution_count": 12,
     "metadata": {},
     "output_type": "execute_result"
    }
   ],
   "source": [
    "temp_pres.head()"
   ]
  },
  {
   "cell_type": "code",
   "execution_count": 13,
   "metadata": {},
   "outputs": [],
   "source": [
    "temp_pres.to_csv('add_pres.csv')"
   ]
  },
  {
   "cell_type": "markdown",
   "metadata": {},
   "source": [
    "## TO ADD SENATE"
   ]
  },
  {
   "cell_type": "code",
   "execution_count": 14,
   "metadata": {},
   "outputs": [],
   "source": [
    "# Should only have to add district via this line\n",
    "senate = for_pres.merge(dist_count, left_on='county', right_on ='Unnamed: 0')\n",
    "# and then candidate_male and candidate_hispanic"
   ]
  }
 ],
 "metadata": {
  "kernelspec": {
   "display_name": "Python 3",
   "language": "python",
   "name": "python3"
  },
  "language_info": {
   "codemirror_mode": {
    "name": "ipython",
    "version": 3
   },
   "file_extension": ".py",
   "mimetype": "text/x-python",
   "name": "python",
   "nbconvert_exporter": "python",
   "pygments_lexer": "ipython3",
   "version": "3.6.4"
  }
 },
 "nbformat": 4,
 "nbformat_minor": 2
}
