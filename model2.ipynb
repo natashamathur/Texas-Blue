{
 "cells": [
  {
   "cell_type": "code",
   "execution_count": 35,
   "metadata": {},
   "outputs": [],
   "source": [
    "from data_functions import *\n",
    "\n",
    "import warnings\n",
    "warnings.filterwarnings('ignore')\n",
    "\n",
    "import statsmodels.api as sm\n",
    "import statsmodels.formula.api as smf\n",
    "\n",
    "import random"
   ]
  },
  {
   "cell_type": "code",
   "execution_count": 36,
   "metadata": {},
   "outputs": [],
   "source": [
    "for_pres = read('texas_president.xlsx')\n",
    "for_pres = for_pres.rename(index=str, columns={\"count\": \"county\"})\n",
    "for_pres = for_pres.rename(index=str, columns={\"Urbanization Status\": \"urban\", \"Border Status\": \"border\"})"
   ]
  },
  {
   "cell_type": "code",
   "execution_count": 37,
   "metadata": {},
   "outputs": [
    {
     "data": {
      "text/plain": [
       "Non-Border    222\n",
       "Border         32\n",
       "Name: border, dtype: int64"
      ]
     },
     "execution_count": 37,
     "metadata": {},
     "output_type": "execute_result"
    }
   ],
   "source": [
    "for_pres.border.value_counts()"
   ]
  },
  {
   "cell_type": "code",
   "execution_count": 38,
   "metadata": {},
   "outputs": [
    {
     "name": "stdout",
     "output_type": "stream",
     "text": [
      "(308, 7)\n"
     ]
    }
   ],
   "source": [
    "for_house = read('texas_counties.xlsx')\n",
    "for_house = for_house.rename(index=str, columns={\"rep_number\": \"district_num\", \"candidate_name\": \"dem_candidate\", \"dem_vote_share\": \"two_party_vtshare\", \"Urbanization Status\": \"urban\", \"Border Status\": \"border\"})\n",
    "for_house = for_house[for_house.county != 'ALL COUNTIES']\n",
    "print(for_house.shape)"
   ]
  },
  {
   "cell_type": "code",
   "execution_count": 39,
   "metadata": {},
   "outputs": [],
   "source": [
    "counties = list(for_pres.county)\n",
    "\n",
    "county_nums = {}\n",
    "val = 1\n",
    "for c in counties:\n",
    "    county_nums[c] = val\n",
    "    val += 1\n",
    "    \n",
    "for_house['county_num'] = for_house.county.apply(lambda x: county_nums[x])\n",
    "for_house['office'] = 'house'\n",
    "for_house = for_house[(for_house.two_party_vtshare != 1) & (for_house.two_party_vtshare != 0)]"
   ]
  },
  {
   "cell_type": "markdown",
   "metadata": {},
   "source": [
    "## COUNTY INFO"
   ]
  },
  {
   "cell_type": "code",
   "execution_count": 66,
   "metadata": {},
   "outputs": [],
   "source": [
    "county_info = for_pres[['county', 'county_num', 'urban', 'border']]\n",
    "county_info['urban'] = county_info.urban.apply(lambda x: 1 if x == 'Urban' else 0)\n",
    "county_info['border'] = county_info.urban.apply(lambda x: 1 if x == 'Border' else 0)"
   ]
  },
  {
   "cell_type": "code",
   "execution_count": 67,
   "metadata": {},
   "outputs": [],
   "source": [
    "cd = read('demo.csv')\n",
    "cd = cd.drop(['Unnamed: 0','FIPS','Age'], axis=1)[1:]\n",
    "cd.County = cd.County.apply(lambda x: x.split(\" \")[0])\n",
    "cd = cd[['County', 'Total', 'Total Female', 'Hispanic Total']]\n",
    "cd['percent_female'] = cd['Total Female'] / cd['Total']\n",
    "cd['percent_hispanic'] = cd['Hispanic Total'] / cd['Total']\n",
    "\n",
    "cd.columns = ['county', 'population', 'Total Female', 'Hispanic Total', 'percent_female','percent_hispanic']\n",
    "cd = cd[['county', 'population', 'percent_female','percent_hispanic']]\n",
    "county_info = county_info.merge(cd)\n",
    "\n",
    "vc = read('vets_and_crimes.xlsx')\n",
    "vc.county = vc.county.apply(lambda x: x.upper())\n",
    "county_info = county_info.merge(vc)\n",
    "county_info = county_info.drop(['crimes_per_100k'], axis=1)"
   ]
  },
  {
   "cell_type": "markdown",
   "metadata": {},
   "source": [
    "## NEXT INFO"
   ]
  },
  {
   "cell_type": "code",
   "execution_count": null,
   "metadata": {},
   "outputs": [],
   "source": [
    "pres_info = for_pres[['office', 'dem_candidate', 'two_party_vtshare', 'candidate_male', 'candidate_white', 'candidate_hispanic']]\n",
    "#pres_info = pres_candidates.groupby(['dem_candidate','office']).median()\n",
    "#pres_info = pres_candidates.rename(index=str, columns={\"two_party_vtshare\": \"med_two_party_vtshare\"})"
   ]
  },
  {
   "cell_type": "code",
   "execution_count": null,
   "metadata": {},
   "outputs": [],
   "source": [
    "house_info = for_house[['district_num', 'office', 'dem_candidate', 'two_party_vtshare']]\n",
    "house_info = house_info.groupby(['dem_candidate','office']).median()\n",
    "house_info = house_info.rename(index=str, columns={\"two_party_vtshare\": \"med_two_party_vtshare\"})"
   ]
  },
  {
   "cell_type": "code",
   "execution_count": null,
   "metadata": {},
   "outputs": [],
   "source": [
    "house_info.shape"
   ]
  },
  {
   "cell_type": "code",
   "execution_count": null,
   "metadata": {},
   "outputs": [],
   "source": [
    "house_info.to_csv('house_candidates_to_add_info.csv')"
   ]
  },
  {
   "cell_type": "code",
   "execution_count": null,
   "metadata": {},
   "outputs": [],
   "source": [
    "for_house = for_house.merge(county_info, on=['county', 'county_num'])\n",
    "for_house.columns"
   ]
  },
  {
   "cell_type": "code",
   "execution_count": null,
   "metadata": {},
   "outputs": [],
   "source": [
    "for_house.border.value_counts()"
   ]
  },
  {
   "cell_type": "code",
   "execution_count": null,
   "metadata": {},
   "outputs": [],
   "source": [
    "demc = for_house[for_house.two_party_vtshare > .5]"
   ]
  },
  {
   "cell_type": "code",
   "execution_count": null,
   "metadata": {},
   "outputs": [],
   "source": [
    "for_house.shape"
   ]
  },
  {
   "cell_type": "code",
   "execution_count": null,
   "metadata": {},
   "outputs": [],
   "source": [
    "mult = for_house.county.value_counts()\n",
    "mult = list(mult[mult > 1].index)"
   ]
  },
  {
   "cell_type": "code",
   "execution_count": null,
   "metadata": {},
   "outputs": [],
   "source": [
    "mult_df = for_house[for_house.county.isin(mult)]"
   ]
  }
 ],
 "metadata": {
  "kernelspec": {
   "display_name": "Python 3",
   "language": "python",
   "name": "python3"
  },
  "language_info": {
   "codemirror_mode": {
    "name": "ipython",
    "version": 3
   },
   "file_extension": ".py",
   "mimetype": "text/x-python",
   "name": "python",
   "nbconvert_exporter": "python",
   "pygments_lexer": "ipython3",
   "version": "3.6.4"
  }
 },
 "nbformat": 4,
 "nbformat_minor": 2
}
